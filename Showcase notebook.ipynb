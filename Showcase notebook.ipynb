{
 "cells": [
  {
   "attachments": {},
   "cell_type": "markdown",
   "metadata": {},
   "source": [
    "# Showcase notebook\n",
    "In this Jupyter Notebook we will explore the functionalities of the simple_icd_10 library. This is intended as an interactive introduction to this module, refer to the README.md file for the official documentation. There you can also find more details about the assumptions that were made and other useful considerations.  \n",
    "The only thing that we will repeat here is the format of the codes, to be precise of the codes for the subcategories. The functions in this library will accept as input subcategory codes both with or without the dot (for example, \"J21.0\" and \"J210\" are both acceptable ways to write the same code). The codes that are returned by the functions are always with the dot; you can use the functions `icd.remove_dot` and `icd.add_dot` to easily switch from one notation to the other.\n",
    "\n",
    "For the setup, you can either use directly the \"simple_icd_10.py\" file, which contains all the source code, or use either pip or conda to install the package, using one of the following commands:"
   ]
  },
  {
   "cell_type": "code",
   "execution_count": 1,
   "metadata": {},
   "outputs": [],
   "source": [
    "#!pip install simple-icd-10"
   ]
  },
  {
   "cell_type": "code",
   "execution_count": 2,
   "metadata": {},
   "outputs": [],
   "source": [
    "#!conda install -c stefanotrv simple_icd_10 "
   ]
  },
  {
   "attachments": {},
   "cell_type": "markdown",
   "metadata": {},
   "source": [
    "Then, let's import the module using a shorter alias."
   ]
  },
  {
   "cell_type": "code",
   "execution_count": 3,
   "metadata": {},
   "outputs": [],
   "source": [
    "import simple_icd_10_gm as icd"
   ]
  },
  {
   "attachments": {},
   "cell_type": "markdown",
   "metadata": {},
   "source": [
    "We can use `icd.is_valid_item` to check whether a string is a valid chapter, block, category or subcategory in ICD-10."
   ]
  },
  {
   "cell_type": "code",
   "execution_count": 4,
   "metadata": {},
   "outputs": [
    {
     "name": "stdout",
     "output_type": "stream",
     "text": [
      "dinosaur:\tFalse\n",
      "     XII:\tTrue\n",
      " G10-G14:\tTrue\n",
      "     C00:\tTrue\n",
      "   H60.1:\tTrue\n"
     ]
    }
   ],
   "source": [
    "print(\"dinosaur:\\t\"+str(icd.is_valid_item(\"dinosaur\")))\n",
    "print(\"     XII:\\t\"+str(icd.is_valid_item(\"XII\")))\n",
    "print(\" G10-G14:\\t\"+str(icd.is_valid_item(\"G10-G14\")))\n",
    "print(\"     C00:\\t\"+str(icd.is_valid_item(\"C00\")))\n",
    "print(\"   H60.1:\\t\"+str(icd.is_valid_item(\"H60.1\")))"
   ]
  },
  {
   "attachments": {},
   "cell_type": "markdown",
   "metadata": {},
   "source": [
    "`icd.is_category_or_subcategory` is the same but restricted to only categories and subcategories."
   ]
  },
  {
   "cell_type": "code",
   "execution_count": 5,
   "metadata": {},
   "outputs": [
    {
     "name": "stdout",
     "output_type": "stream",
     "text": [
      "dinosaur:\tFalse\n",
      "     XII:\tFalse\n",
      " G10-G14:\tFalse\n",
      "     C00:\tTrue\n",
      "   H60.1:\tTrue\n"
     ]
    }
   ],
   "source": [
    "print(\"dinosaur:\\t\"+str(icd.is_category_or_subcategory(\"dinosaur\")))\n",
    "print(\"     XII:\\t\"+str(icd.is_category_or_subcategory(\"XII\")))\n",
    "print(\" G10-G14:\\t\"+str(icd.is_category_or_subcategory(\"G10-G14\")))\n",
    "print(\"     C00:\\t\"+str(icd.is_category_or_subcategory(\"C00\")))\n",
    "print(\"   H60.1:\\t\"+str(icd.is_category_or_subcategory(\"H60.1\")))"
   ]
  },
  {
   "attachments": {},
   "cell_type": "markdown",
   "metadata": {},
   "source": [
    "`icd.is_chapter_or_block` is again the same but restricted to only chapters and blocks."
   ]
  },
  {
   "cell_type": "code",
   "execution_count": 6,
   "metadata": {},
   "outputs": [
    {
     "name": "stdout",
     "output_type": "stream",
     "text": [
      "dinosaur:\tFalse\n",
      "     XII:\tTrue\n",
      " G10-G14:\tTrue\n",
      "     C00:\tFalse\n",
      "   H60.1:\tFalse\n"
     ]
    }
   ],
   "source": [
    "print(\"dinosaur:\\t\"+str(icd.is_chapter_or_block(\"dinosaur\")))\n",
    "print(\"     XII:\\t\"+str(icd.is_chapter_or_block(\"XII\")))\n",
    "print(\" G10-G14:\\t\"+str(icd.is_chapter_or_block(\"G10-G14\")))\n",
    "print(\"     C00:\\t\"+str(icd.is_chapter_or_block(\"C00\")))\n",
    "print(\"   H60.1:\\t\"+str(icd.is_chapter_or_block(\"H60.1\")))"
   ]
  },
  {
   "attachments": {},
   "cell_type": "markdown",
   "metadata": {},
   "source": [
    "We can use `icd.is_chapter`, `icd.is_block`, `icd.is_category` and `icd.is_subcategory` to check whether a string is, respectively, a valid chapter, block, category or subcategory."
   ]
  },
  {
   "cell_type": "code",
   "execution_count": 7,
   "metadata": {},
   "outputs": [
    {
     "name": "stdout",
     "output_type": "stream",
     "text": [
      "dinosaur:\tFalse\n",
      "     XII:\tTrue\n",
      " G10-G14:\tFalse\n",
      "     C00:\tFalse\n",
      "   H60.1:\tFalse\n"
     ]
    }
   ],
   "source": [
    "print(\"dinosaur:\\t\"+str(icd.is_chapter(\"dinosaur\")))\n",
    "print(\"     XII:\\t\"+str(icd.is_chapter(\"XII\")))\n",
    "print(\" G10-G14:\\t\"+str(icd.is_chapter(\"G10-G14\")))\n",
    "print(\"     C00:\\t\"+str(icd.is_chapter(\"C00\")))\n",
    "print(\"   H60.1:\\t\"+str(icd.is_chapter(\"H60.1\")))"
   ]
  },
  {
   "cell_type": "code",
   "execution_count": 8,
   "metadata": {},
   "outputs": [
    {
     "name": "stdout",
     "output_type": "stream",
     "text": [
      "dinosaur:\tFalse\n",
      "     XII:\tFalse\n",
      " G10-G14:\tTrue\n",
      "     C00:\tFalse\n",
      "   H60.1:\tFalse\n"
     ]
    }
   ],
   "source": [
    "print(\"dinosaur:\\t\"+str(icd.is_block(\"dinosaur\")))\n",
    "print(\"     XII:\\t\"+str(icd.is_block(\"XII\")))\n",
    "print(\" G10-G14:\\t\"+str(icd.is_block(\"G10-G14\")))\n",
    "print(\"     C00:\\t\"+str(icd.is_block(\"C00\")))\n",
    "print(\"   H60.1:\\t\"+str(icd.is_block(\"H60.1\")))"
   ]
  },
  {
   "cell_type": "code",
   "execution_count": 9,
   "metadata": {},
   "outputs": [
    {
     "name": "stdout",
     "output_type": "stream",
     "text": [
      "dinosaur:\tFalse\n",
      "     XII:\tFalse\n",
      " G10-G14:\tFalse\n",
      "     C00:\tTrue\n",
      "   H60.1:\tFalse\n"
     ]
    }
   ],
   "source": [
    "print(\"dinosaur:\\t\"+str(icd.is_category(\"dinosaur\")))\n",
    "print(\"     XII:\\t\"+str(icd.is_category(\"XII\")))\n",
    "print(\" G10-G14:\\t\"+str(icd.is_category(\"G10-G14\")))\n",
    "print(\"     C00:\\t\"+str(icd.is_category(\"C00\")))\n",
    "print(\"   H60.1:\\t\"+str(icd.is_category(\"H60.1\")))"
   ]
  },
  {
   "cell_type": "code",
   "execution_count": 10,
   "metadata": {},
   "outputs": [
    {
     "name": "stdout",
     "output_type": "stream",
     "text": [
      "dinosaur:\tFalse\n",
      "     XII:\tFalse\n",
      " G10-G14:\tFalse\n",
      "     C00:\tFalse\n",
      "   H60.1:\tTrue\n"
     ]
    }
   ],
   "source": [
    "print(\"dinosaur:\\t\"+str(icd.is_subcategory(\"dinosaur\")))\n",
    "print(\"     XII:\\t\"+str(icd.is_subcategory(\"XII\")))\n",
    "print(\" G10-G14:\\t\"+str(icd.is_subcategory(\"G10-G14\")))\n",
    "print(\"     C00:\\t\"+str(icd.is_subcategory(\"C00\")))\n",
    "print(\"   H60.1:\\t\"+str(icd.is_subcategory(\"H60.1\")))"
   ]
  },
  {
   "attachments": {},
   "cell_type": "markdown",
   "metadata": {},
   "source": [
    "All the following functions will raise a `ValueError` if they receive as input a string that is not a valid ICD-10 item (chapter, block, category or subcategory).\n",
    "\n",
    "With `icd.get_description` we can get the descriptions of the codes."
   ]
  },
  {
   "cell_type": "code",
   "execution_count": 11,
   "metadata": {},
   "outputs": [
    {
     "name": "stdout",
     "output_type": "stream",
     "text": [
      "     XII:\tKrankheiten der Haut und der Unterhaut\n",
      " G10-G14:\tSystematrophien, die vorwiegend das Zentralnervensystem betreffen\n",
      "     C00:\tBösartige Neubildung der Lippe\n",
      "   H60.1:\tPhlegmone des äußeren Ohres\n"
     ]
    }
   ],
   "source": [
    "print(\"     XII:\\t\"+icd.get_description(\"XII\"))\n",
    "print(\" G10-G14:\\t\"+icd.get_description(\"G10-G14\"))\n",
    "print(\"     C00:\\t\"+icd.get_description(\"C00\"))\n",
    "print(\"   H60.1:\\t\"+icd.get_description(\"H60.1\"))"
   ]
  },
  {
   "attachments": {},
   "cell_type": "markdown",
   "metadata": {},
   "source": [
    "We can use `icd.get_parent` to find the parent of a code and `icd.get_children` to find the children of a code."
   ]
  },
  {
   "cell_type": "code",
   "execution_count": 12,
   "metadata": {},
   "outputs": [
    {
     "name": "stdout",
     "output_type": "stream",
     "text": [
      "get_parent:\n",
      "     XII:\t\n",
      " G10-G14:\tVI\n",
      "     C00:\tC00-C14\n",
      "   H60.1:\tH60\n",
      "\n",
      "get_children:\n",
      "     XII:\t['L00-L08', 'L10-L14', 'L20-L30', 'L40-L45', 'L50-L54', 'L55-L59', 'L60-L75', 'L80-L99']\n",
      " G10-G14:\t['G10', 'G11', 'G12', 'G13', 'G14']\n",
      "     C00:\t['C00.0', 'C00.1', 'C00.2', 'C00.3', 'C00.4', 'C00.5', 'C00.6', 'C00.8', 'C00.9']\n",
      "   H60.1:\t[]\n"
     ]
    }
   ],
   "source": [
    "print(\"get_parent:\")\n",
    "print(\"     XII:\\t\"+icd.get_parent(\"XII\"))\n",
    "print(\" G10-G14:\\t\"+icd.get_parent(\"G10-G14\"))\n",
    "print(\"     C00:\\t\"+icd.get_parent(\"C00\"))\n",
    "print(\"   H60.1:\\t\"+icd.get_parent(\"H60.1\"))\n",
    "\n",
    "print(\"\\nget_children:\")\n",
    "print(\"     XII:\\t\"+str(icd.get_children(\"XII\")))\n",
    "print(\" G10-G14:\\t\"+str(icd.get_children(\"G10-G14\")))\n",
    "print(\"     C00:\\t\"+str(icd.get_children(\"C00\")))\n",
    "print(\"   H60.1:\\t\"+str(icd.get_children(\"H60.1\")))"
   ]
  },
  {
   "attachments": {},
   "cell_type": "markdown",
   "metadata": {},
   "source": [
    "With `icd.get_ancestors` we can get all the ancestors of a code, ordered from the parent to the root (which will be the chapter)."
   ]
  },
  {
   "cell_type": "code",
   "execution_count": 13,
   "metadata": {},
   "outputs": [
    {
     "name": "stdout",
     "output_type": "stream",
     "text": [
      "XII:\n",
      "[]\n",
      "\n",
      "G10-G14:\n",
      "['VI']\n",
      "\n",
      "C00:\n",
      "['C00-C14', 'C00-C75', 'C00-C97', 'II']\n",
      "\n",
      "H60.1:\n",
      "['H60', 'H60-H62', 'VIII']\n",
      "\n"
     ]
    }
   ],
   "source": [
    "print(\"XII:\\n\"+str(icd.get_ancestors(\"XII\"))+\"\\n\")\n",
    "print(\"G10-G14:\\n\"+str(icd.get_ancestors(\"G10-G14\"))+\"\\n\")\n",
    "print(\"C00:\\n\"+str(icd.get_ancestors(\"C00\"))+\"\\n\")\n",
    "print(\"H60.1:\\n\"+str(icd.get_ancestors(\"H60.1\"))+\"\\n\")"
   ]
  },
  {
   "attachments": {},
   "cell_type": "markdown",
   "metadata": {},
   "source": [
    "We can get all the descendants of a code by using `icd.get_descendants`. While the results are usually ordered, this isn't always the case."
   ]
  },
  {
   "cell_type": "code",
   "execution_count": 14,
   "metadata": {},
   "outputs": [
    {
     "name": "stdout",
     "output_type": "stream",
     "text": [
      "XII:\n",
      "['L00-L08', 'L00', 'L00.0', 'L00.1', 'L01', 'L01.0', 'L01.1', 'L02', 'L02.0', 'L02.1', 'L02.2', 'L02.3', 'L02.4', 'L02.8', 'L02.9', 'L03', 'L03.0', 'L03.01', 'L03.02', 'L03.1', 'L03.10', 'L03.11', 'L03.2', 'L03.3', 'L03.8', 'L03.9', 'L04', 'L04.0', 'L04.1', 'L04.2', 'L04.3', 'L04.8', 'L04.9', 'L05', 'L05.0', 'L05.9', 'L08', 'L08.0', 'L08.1', 'L08.8', 'L08.9', 'L10-L14', 'L10', 'L10.0', 'L10.1', 'L10.2', 'L10.3', 'L10.4', 'L10.5', 'L10.8', 'L10.9', 'L11', 'L11.0', 'L11.1', 'L11.8', 'L11.9', 'L12', 'L12.0', 'L12.1', 'L12.2', 'L12.3', 'L12.8', 'L12.9', 'L13', 'L13.0', 'L13.1', 'L13.8', 'L13.9', 'L14', 'L20-L30', 'L20', 'L20.0', 'L20.8', 'L20.9', 'L21', 'L21.0', 'L21.1', 'L21.8', 'L21.9', 'L22', 'L23', 'L23.0', 'L23.1', 'L23.2', 'L23.3', 'L23.4', 'L23.5', 'L23.6', 'L23.7', 'L23.8', 'L23.9', 'L24', 'L24.0', 'L24.1', 'L24.2', 'L24.3', 'L24.4', 'L24.5', 'L24.6', 'L24.7', 'L24.8', 'L24.9', 'L25', 'L25.0', 'L25.1', 'L25.2', 'L25.3', 'L25.4', 'L25.5', 'L25.8', 'L25.9', 'L26', 'L27', 'L27.0', 'L27.1', 'L27.2', 'L27.8', 'L27.9', 'L28', 'L28.0', 'L28.1', 'L28.2', 'L29', 'L29.0', 'L29.1', 'L29.2', 'L29.3', 'L29.8', 'L29.9', 'L30', 'L30.0', 'L30.1', 'L30.2', 'L30.3', 'L30.4', 'L30.5', 'L30.8', 'L30.9', 'L40-L45', 'L40', 'L40.0', 'L40.1', 'L40.2', 'L40.3', 'L40.4', 'L40.5', 'L40.7', 'L40.70', 'L40.8', 'L40.9', 'L41', 'L41.0', 'L41.1', 'L41.3', 'L41.4', 'L41.5', 'L41.8', 'L41.9', 'L42', 'L43', 'L43.0', 'L43.1', 'L43.2', 'L43.3', 'L43.8', 'L43.9', 'L44', 'L44.0', 'L44.1', 'L44.2', 'L44.3', 'L44.4', 'L44.8', 'L44.9', 'L45', 'L50-L54', 'L50', 'L50.0', 'L50.1', 'L50.2', 'L50.3', 'L50.4', 'L50.5', 'L50.6', 'L50.8', 'L50.9', 'L51', 'L51.0', 'L51.1', 'L51.2', 'L51.20', 'L51.21', 'L51.8', 'L51.9', 'L52', 'L53', 'L53.0', 'L53.1', 'L53.2', 'L53.3', 'L53.8', 'L53.9', 'L54', 'L54.0', 'L54.8', 'L55-L59', 'L55', 'L55.0', 'L55.1', 'L55.2', 'L55.8', 'L55.9', 'L56', 'L56.0', 'L56.1', 'L56.2', 'L56.3', 'L56.4', 'L56.8', 'L56.9', 'L57', 'L57.0', 'L57.1', 'L57.2', 'L57.3', 'L57.4', 'L57.5', 'L57.8', 'L57.9', 'L58', 'L58.0', 'L58.1', 'L58.9', 'L59', 'L59.0', 'L59.8', 'L59.9', 'L60-L75', 'L60', 'L60.0', 'L60.1', 'L60.2', 'L60.3', 'L60.4', 'L60.5', 'L60.8', 'L60.9', 'L62', 'L62.0', 'L62.8', 'L63', 'L63.0', 'L63.1', 'L63.2', 'L63.8', 'L63.9', 'L64', 'L64.0', 'L64.8', 'L64.9', 'L65', 'L65.0', 'L65.1', 'L65.2', 'L65.8', 'L65.9', 'L66', 'L66.0', 'L66.1', 'L66.2', 'L66.3', 'L66.4', 'L66.8', 'L66.9', 'L67', 'L67.0', 'L67.1', 'L67.8', 'L67.9', 'L68', 'L68.0', 'L68.1', 'L68.2', 'L68.3', 'L68.8', 'L68.9', 'L70', 'L70.0', 'L70.1', 'L70.2', 'L70.3', 'L70.4', 'L70.5', 'L70.8', 'L70.9', 'L71', 'L71.0', 'L71.1', 'L71.8', 'L71.9', 'L72', 'L72.0', 'L72.1', 'L72.2', 'L72.8', 'L72.9', 'L73', 'L73.0', 'L73.1', 'L73.2', 'L73.8', 'L73.9', 'L74', 'L74.0', 'L74.1', 'L74.2', 'L74.3', 'L74.4', 'L74.8', 'L74.9', 'L75', 'L75.0', 'L75.1', 'L75.2', 'L75.8', 'L75.9', 'L80-L99', 'L80', 'L81', 'L81.0', 'L81.1', 'L81.2', 'L81.3', 'L81.4', 'L81.5', 'L81.6', 'L81.7', 'L81.8', 'L81.9', 'L82', 'L83', 'L84', 'L85', 'L85.0', 'L85.1', 'L85.2', 'L85.3', 'L85.8', 'L85.9', 'L86', 'L87', 'L87.0', 'L87.1', 'L87.2', 'L87.8', 'L87.9', 'L88', 'L89', 'L89.0', 'L89.1', 'L89.2', 'L89.3', 'L89.9', 'L90', 'L90.0', 'L90.1', 'L90.2', 'L90.3', 'L90.4', 'L90.5', 'L90.6', 'L90.8', 'L90.9', 'L91', 'L91.0', 'L91.8', 'L91.9', 'L92', 'L92.0', 'L92.1', 'L92.2', 'L92.3', 'L92.8', 'L92.9', 'L93', 'L93.0', 'L93.1', 'L93.2', 'L94', 'L94.0', 'L94.1', 'L94.2', 'L94.3', 'L94.4', 'L94.5', 'L94.6', 'L94.8', 'L94.9', 'L95', 'L95.0', 'L95.1', 'L95.8', 'L95.9', 'L97', 'L98', 'L98.0', 'L98.1', 'L98.2', 'L98.3', 'L98.4', 'L98.5', 'L98.6', 'L98.7', 'L98.8', 'L98.9', 'L99', 'L99.0', 'L99.1', 'L99.11', 'L99.12', 'L99.13', 'L99.14', 'L99.2', 'L99.21', 'L99.22', 'L99.23', 'L99.8']\n",
      "\n",
      "G10-G14:\n",
      "['G10', 'G11', 'G11.0', 'G11.1', 'G11.2', 'G11.3', 'G11.4', 'G11.8', 'G11.9', 'G12', 'G12.0', 'G12.1', 'G12.2', 'G12.8', 'G12.9', 'G13', 'G13.0', 'G13.1', 'G13.2', 'G13.8', 'G14']\n",
      "\n",
      "C00:\n",
      "['C00.0', 'C00.1', 'C00.2', 'C00.3', 'C00.4', 'C00.5', 'C00.6', 'C00.8', 'C00.9']\n",
      "\n",
      "H60.1:\n",
      "[]\n",
      "\n"
     ]
    }
   ],
   "source": [
    "print(\"XII:\\n\"+str(icd.get_descendants(\"XII\"))+\"\\n\")\n",
    "print(\"G10-G14:\\n\"+str(icd.get_descendants(\"G10-G14\"))+\"\\n\")\n",
    "print(\"C00:\\n\"+str(icd.get_descendants(\"C00\"))+\"\\n\")\n",
    "print(\"H60.1:\\n\"+str(icd.get_descendants(\"H60.1\"))+\"\\n\")"
   ]
  },
  {
   "attachments": {},
   "cell_type": "markdown",
   "metadata": {},
   "source": [
    "We can use `icd.is_descendant` to check whether a code is a descendant of another code and `icd.is_ancestor` to check whether a code is an ancestor of another code. Notice how these two functions behave the same when their parameters are switched."
   ]
  },
  {
   "cell_type": "code",
   "execution_count": 15,
   "metadata": {},
   "outputs": [
    {
     "name": "stdout",
     "output_type": "stream",
     "text": [
      "H60.1 and H60-H62:\n",
      "icd.is_descendant(\"H60.1\",\"H60-H62\"):\tTrue\n",
      "icd.is_ancestor(\"H60.1\",\"H60-H62\"):\tFalse\n",
      "\n",
      "H60-H62 and H60.1:\n",
      "icd.is_descendant(\"H60-H62\",\"H60.1\"):\tFalse\n",
      "icd.is_ancestor(\"H60-H62\",\"H60.1\"):\tTrue\n",
      "\n"
     ]
    }
   ],
   "source": [
    "print(\"H60.1 and H60-H62:\")\n",
    "print(\"icd.is_descendant(\\\"H60.1\\\",\\\"H60-H62\\\"):\\t\"+str(icd.is_descendant(\"H60.1\",\"H60-H62\")))\n",
    "print(\"icd.is_ancestor(\\\"H60.1\\\",\\\"H60-H62\\\"):\\t\"+str(icd.is_ancestor(\"H60.1\",\"H60-H62\"))+\"\\n\")\n",
    "\n",
    "print(\"H60-H62 and H60.1:\")\n",
    "print(\"icd.is_descendant(\\\"H60-H62\\\",\\\"H60.1\\\"):\\t\"+str(icd.is_descendant(\"H60-H62\",\"H60.1\")))\n",
    "print(\"icd.is_ancestor(\\\"H60-H62\\\",\\\"H60.1\\\"):\\t\"+str(icd.is_ancestor(\"H60-H62\",\"H60.1\"))+\"\\n\")"
   ]
  },
  {
   "attachments": {},
   "cell_type": "markdown",
   "metadata": {},
   "source": [
    "A code is never its own ancestor or descendant:"
   ]
  },
  {
   "cell_type": "code",
   "execution_count": 16,
   "metadata": {},
   "outputs": [
    {
     "name": "stdout",
     "output_type": "stream",
     "text": [
      "E15-E16 and E15-E16:\n",
      "icd.is_descendant(\"E15-E16\",\"E15-E16\"):\tFalse\n",
      "icd.is_ancestor(\"E15-E16\",\"E15-E16\"):\tFalse\n",
      "\n"
     ]
    }
   ],
   "source": [
    "print(\"E15-E16 and E15-E16:\")\n",
    "print(\"icd.is_descendant(\\\"E15-E16\\\",\\\"E15-E16\\\"):\\t\"+str(icd.is_descendant(\"E15-E16\",\"E15-E16\")))\n",
    "print(\"icd.is_ancestor(\\\"E15-E16\\\",\\\"E15-E16\\\"):\\t\"+str(icd.is_ancestor(\"E15-E16\",\"E15-E16\"))+\"\\n\")"
   ]
  },
  {
   "attachments": {},
   "cell_type": "markdown",
   "metadata": {},
   "source": [
    "With `icd.get_nearest_common_ancestor` we can find the nearest common ancestor of two codes."
   ]
  },
  {
   "cell_type": "code",
   "execution_count": 17,
   "metadata": {},
   "outputs": [
    {
     "data": {
      "text/plain": [
       "'J95-J99'"
      ]
     },
     "execution_count": 17,
     "metadata": {},
     "output_type": "execute_result"
    }
   ],
   "source": [
    "icd.get_nearest_common_ancestor(\"J950\",\"J998\")"
   ]
  },
  {
   "attachments": {},
   "cell_type": "markdown",
   "metadata": {},
   "source": [
    "With `icd.is_leaf` we can check whether a code is a leaf in the ICD-10 classification, that is if it has no descendants."
   ]
  },
  {
   "cell_type": "code",
   "execution_count": 18,
   "metadata": {},
   "outputs": [
    {
     "name": "stdout",
     "output_type": "stream",
     "text": [
      "     XII:\tFalse\n",
      " G10-G14:\tFalse\n",
      "     C00:\tFalse\n",
      "   H60.1:\tTrue\n",
      "     O94:\tTrue\n"
     ]
    }
   ],
   "source": [
    "print(\"     XII:\\t\"+str(icd.is_leaf(\"XII\")))\n",
    "print(\" G10-G14:\\t\"+str(icd.is_leaf(\"G10-G14\")))\n",
    "print(\"     C00:\\t\"+str(icd.is_leaf(\"C00\")))\n",
    "print(\"   H60.1:\\t\"+str(icd.is_leaf(\"H60.1\")))\n",
    "print(\"     O94:\\t\"+str(icd.is_leaf(\"O94\")))"
   ]
  },
  {
   "attachments": {},
   "cell_type": "markdown",
   "metadata": {},
   "source": [
    "If we need, for some reason, the list of all the codes, we can get it by using `icd.get_all_codes`. By default, the codes returned will be in the format with the dots, but we can set the optional argument `with_dots` to `False` if we want to use the format without dots."
   ]
  },
  {
   "cell_type": "code",
   "execution_count": 19,
   "metadata": {},
   "outputs": [
    {
     "data": {
      "text/plain": [
       "['I',\n",
       " 'A00-A09',\n",
       " 'A00',\n",
       " 'A00.0',\n",
       " 'A00.1',\n",
       " 'A00.9',\n",
       " 'A01',\n",
       " 'A01.0',\n",
       " 'A01.1',\n",
       " 'A01.2',\n",
       " 'A01.3',\n",
       " 'A01.4',\n",
       " 'A02',\n",
       " 'A02.0',\n",
       " 'A02.1']"
      ]
     },
     "execution_count": 19,
     "metadata": {},
     "output_type": "execute_result"
    }
   ],
   "source": [
    "icd.get_all_codes()[:15]"
   ]
  },
  {
   "cell_type": "code",
   "execution_count": 20,
   "metadata": {},
   "outputs": [
    {
     "data": {
      "text/plain": [
       "['I',\n",
       " 'A00-A09',\n",
       " 'A00',\n",
       " 'A000',\n",
       " 'A001',\n",
       " 'A009',\n",
       " 'A01',\n",
       " 'A010',\n",
       " 'A011',\n",
       " 'A012',\n",
       " 'A013',\n",
       " 'A014',\n",
       " 'A02',\n",
       " 'A020',\n",
       " 'A021']"
      ]
     },
     "execution_count": 20,
     "metadata": {},
     "output_type": "execute_result"
    }
   ],
   "source": [
    "icd.get_all_codes(False)[:15]"
   ]
  },
  {
   "attachments": {},
   "cell_type": "markdown",
   "metadata": {},
   "source": [
    "From here, it's really easy to only keep the codes for categories and subcategories, if we only want those."
   ]
  },
  {
   "cell_type": "code",
   "execution_count": 21,
   "metadata": {},
   "outputs": [
    {
     "data": {
      "text/plain": [
       "['A00',\n",
       " 'A000',\n",
       " 'A001',\n",
       " 'A009',\n",
       " 'A01',\n",
       " 'A010',\n",
       " 'A011',\n",
       " 'A012',\n",
       " 'A013',\n",
       " 'A014',\n",
       " 'A02',\n",
       " 'A020',\n",
       " 'A021',\n",
       " 'A022',\n",
       " 'A028']"
      ]
     },
     "execution_count": 21,
     "metadata": {},
     "output_type": "execute_result"
    }
   ],
   "source": [
    "[code for code in icd.get_all_codes(False) if not icd.is_chapter_or_block(code)][:15]"
   ]
  },
  {
   "attachments": {},
   "cell_type": "markdown",
   "metadata": {},
   "source": [
    "We can use `icd.get_index` to get the index of a code in the list returned by `icd.get_all_codes`."
   ]
  },
  {
   "cell_type": "code",
   "execution_count": 22,
   "metadata": {},
   "outputs": [
    {
     "data": {
      "text/plain": [
       "7501"
      ]
     },
     "execution_count": 22,
     "metadata": {},
     "output_type": "execute_result"
    }
   ],
   "source": [
    "icd.get_index(\"P00\")"
   ]
  },
  {
   "cell_type": "code",
   "execution_count": 23,
   "metadata": {},
   "outputs": [
    {
     "data": {
      "text/plain": [
       "'O28.3'"
      ]
     },
     "execution_count": 23,
     "metadata": {},
     "output_type": "execute_result"
    }
   ],
   "source": [
    "icd.get_all_codes()[7159]"
   ]
  },
  {
   "cell_type": "code",
   "execution_count": 24,
   "metadata": {},
   "outputs": [
    {
     "data": {
      "text/plain": [
       "'Abnormer Ultraschallbefund bei der pränatalen Screeninguntersuchung der Mutter'"
      ]
     },
     "execution_count": 24,
     "metadata": {},
     "output_type": "execute_result"
    }
   ],
   "source": [
    "icd.get_description(icd.get_all_codes()[7159])"
   ]
  },
  {
   "attachments": {},
   "cell_type": "markdown",
   "metadata": {},
   "source": [
    "We can use the functions `icd.remove_dot` and `icd.add_dot` to easily switch between the two format of the codes, that is the one with the dot in the subcategories and the one with no dots."
   ]
  },
  {
   "cell_type": "code",
   "execution_count": 25,
   "metadata": {},
   "outputs": [
    {
     "name": "stdout",
     "output_type": "stream",
     "text": [
      "remove_dot:\n",
      "     XII:\tXII\n",
      " G10-G14:\tG10-G14\n",
      "   H60.1:\tH601\n",
      "    H601:\tH601\n",
      "\n",
      "add_dot:\n",
      "     XII:\tXII\n",
      " G10-G14:\tG10-G14\n",
      "   H60.1:\tH60.1\n",
      "    H601:\tH60.1\n"
     ]
    }
   ],
   "source": [
    "print(\"remove_dot:\")\n",
    "print(\"     XII:\\t\"+icd.remove_dot(\"XII\"))\n",
    "print(\" G10-G14:\\t\"+icd.remove_dot(\"G10-G14\"))\n",
    "print(\"   H60.1:\\t\"+icd.remove_dot(\"H60.1\"))\n",
    "print(\"    H601:\\t\"+icd.remove_dot(\"H601\"))\n",
    "\n",
    "print(\"\\nadd_dot:\")\n",
    "print(\"     XII:\\t\"+icd.add_dot(\"XII\"))\n",
    "print(\" G10-G14:\\t\"+icd.add_dot(\"G10-G14\"))\n",
    "print(\"   H60.1:\\t\"+icd.add_dot(\"H60.1\"))\n",
    "print(\"    H601:\\t\"+icd.add_dot(\"H601\"))"
   ]
  }
 ],
 "metadata": {
  "kernelspec": {
   "display_name": "Python 3",
   "language": "python",
   "name": "python3"
  },
  "language_info": {
   "codemirror_mode": {
    "name": "ipython",
    "version": 3
   },
   "file_extension": ".py",
   "mimetype": "text/x-python",
   "name": "python",
   "nbconvert_exporter": "python",
   "pygments_lexer": "ipython3",
   "version": "3.8.10"
  }
 },
 "nbformat": 4,
 "nbformat_minor": 4
}
